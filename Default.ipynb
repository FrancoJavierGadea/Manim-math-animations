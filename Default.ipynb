{
  "nbformat": 4,
  "nbformat_minor": 0,
  "metadata": {
    "colab": {
      "provenance": []
    },
    "kernelspec": {
      "name": "python3",
      "display_name": "Python 3"
    },
    "language_info": {
      "name": "python"
    }
  },
  "cells": [
    {
      "cell_type": "markdown",
      "source": [
        "## Configuracion"
      ],
      "metadata": {
        "id": "WEmpdlrXxobW"
      }
    },
    {
      "cell_type": "markdown",
      "source": [
        "Instalar las dependencias y reiniciar la sesion"
      ],
      "metadata": {
        "id": "EYuNqwMow-EG"
      }
    },
    {
      "cell_type": "code",
      "source": [
        "!sudo apt install libcairo2-dev ffmpeg \\\n",
        "    texlive texlive-latex-extra texlive-fonts-extra \\\n",
        "    texlive-latex-recommended texlive-science \\\n",
        "    tipa libpango1.0-dev\n",
        "!pip install manim"
      ],
      "metadata": {
        "id": "I0VCHmZ4w9sF"
      },
      "execution_count": null,
      "outputs": []
    },
    {
      "cell_type": "markdown",
      "source": [
        "Importar Manim y demas dependencias"
      ],
      "metadata": {
        "id": "zFeY_dvgxHMI"
      }
    },
    {
      "cell_type": "code",
      "source": [
        "from manim import *\n",
        "import math"
      ],
      "metadata": {
        "id": "zH3dn-alxGBg"
      },
      "execution_count": null,
      "outputs": []
    },
    {
      "cell_type": "markdown",
      "source": [
        "## Titulo"
      ],
      "metadata": {
        "id": "wQjtBl9UxPTt"
      }
    },
    {
      "cell_type": "code",
      "source": [],
      "metadata": {
        "id": "Wvyl9TjDxY9q"
      },
      "execution_count": null,
      "outputs": []
    }
  ]
}